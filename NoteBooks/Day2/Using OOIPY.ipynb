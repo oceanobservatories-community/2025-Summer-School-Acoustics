{
 "cells": [
  {
   "cell_type": "markdown",
   "id": "002e36e8",
   "metadata": {},
   "source": [
    "# Using OOIPY\n",
    "placeholder notebook"
   ]
  }
 ],
 "metadata": {
  "language_info": {
   "name": "python"
  }
 },
 "nbformat": 4,
 "nbformat_minor": 5
}
